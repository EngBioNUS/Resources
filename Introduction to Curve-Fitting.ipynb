{
 "cells": [
  {
   "cell_type": "code",
   "execution_count": 1,
   "metadata": {},
   "outputs": [],
   "source": [
    "import numpy             as np\n",
    "import matplotlib.pyplot as plt\n",
    "import pandas            as pd\n",
    "import seaborn           as sns\n",
    "from matplotlib          import rcParams\n",
    "from scipy.integrate     import odeint\n",
    "from scipy.optimize      import basinhopping\n",
    "\n",
    "plt.close('all')\n",
    "sns.set_context('notebook')\n",
    "rcParams['figure.facecolor'] = 'white'\n",
    "rcParams['axes.facecolor']   = 'white'\n"
   ]
  },
  {
   "cell_type": "markdown",
   "metadata": {},
   "source": [
    "## Define the Model"
   ]
  },
  {
   "cell_type": "code",
   "execution_count": 2,
   "metadata": {},
   "outputs": [],
   "source": [
    "def model(y, t, params):\n",
    "    mRNA = y[0]\n",
    "    prot = y[1]\n",
    "    \n",
    "    inducer = params[0]\n",
    "    synm    = params[1]  \n",
    "    k_ind   = params[2] \n",
    "    degm    = params[3] \n",
    "    synp    = params[4]\n",
    "    mu      = params[5]\n",
    "    \n",
    "    dmRNA = synm*(inducer)/(inducer+k_ind)-degm*mRNA\n",
    "    dprot = synp*mRNA-mu*prot\n",
    "    \n",
    "    return np.array([dmRNA, dprot])"
   ]
  },
  {
   "cell_type": "markdown",
   "metadata": {},
   "source": [
    "## Plot Data"
   ]
  },
  {
   "cell_type": "code",
   "execution_count": 3,
   "metadata": {},
   "outputs": [
    {
     "data": {
      "image/png": "[encoded data removed]",
      "text/plain": [
       "<Figure size 432x288 with 1 Axes>"
      ]
     },
     "metadata": {},
     "output_type": "display_data"
    }
   ],
   "source": [
    "#Part 1: Produce a data set (evidence) and plot it\n",
    "raw_data = pd.read_csv(\"Example_Data.csv\")\n",
    "tspan    = raw_data.iloc[:,0]\n",
    "y_data   = raw_data.iloc[:,1:]\n",
    "\n",
    "fig1 = plt.figure()\n",
    "ax1  = fig1.add_subplot(1,1,1)\n",
    "ax1.plot(tspan, y_data,'o')\n",
    "setting = ax1.set(title='Observed data', xlabel='Time (hr)', ylabel='Conc')\n",
    "\n"
   ]
  },
  {
   "cell_type": "markdown",
   "metadata": {},
   "source": [
    "## Integrating the Model"
   ]
  },
  {
   "cell_type": "code",
   "execution_count": 4,
   "metadata": {},
   "outputs": [
    {
     "data": {
      "image/png": "[encoded data removed]",
      "text/plain": [
       "<Figure size 432x288 with 1 Axes>"
      ]
     },
     "metadata": {},
     "output_type": "display_data"
    }
   ],
   "source": [
    "# Part 2: Integrate model using a set of parameters\n",
    "\n",
    "y_init  = [0, 2.5e-8]\n",
    "values  = {'inducer' : 1,\n",
    "           'synm1'   : 2e-5,  \n",
    "           'k_ind'   : 12, \n",
    "           'degm'    : 0.2,  \n",
    "           'synp'    : 0.01,\n",
    "           'mu'      : 0.015\n",
    "          }\n",
    "params     = list(values.values())\n",
    "tspan= [0, 60, 120, 180, 240, 300, 360]\n",
    "model_data = odeint(model, y_init, tspan, args=tuple([params]))\n",
    "y_model    = model_data[:,1]\n",
    "\n",
    "fig2 = plt.figure()\n",
    "ax2  = fig2.add_subplot(1,1,1)\n",
    "ax2.plot(tspan, y_data,'o')\n",
    "ax2.plot(tspan, y_model)\n",
    "setting = ax1.set(title='Observed data', xlabel='Time (hr)', ylabel='Conc')"
   ]
  },
  {
   "cell_type": "markdown",
   "metadata": {},
   "source": [
    "## Calculating Sum Squared Error"
   ]
  },
  {
   "cell_type": "code",
   "execution_count": 5,
   "metadata": {},
   "outputs": [
    {
     "name": "stdout",
     "output_type": "stream",
     "text": [
      "1.210589965016378e-10\n"
     ]
    }
   ],
   "source": [
    "#Part 3: Calculate error\n",
    "\n",
    "SSE = 0\n",
    "for column in y_data:\n",
    "    SSE += np.sum((y_data[column]-y_model)**2)\n",
    "\n",
    "print(SSE)"
   ]
  },
  {
   "cell_type": "markdown",
   "metadata": {},
   "source": [
    "## Wrap Process into a Function"
   ]
  },
  {
   "cell_type": "code",
   "execution_count": 6,
   "metadata": {},
   "outputs": [],
   "source": [
    "def get_SSE(tspan, y_data, params):\n",
    "    model_data = odeint(model, y_init, tspan, args=tuple([params]))\n",
    "    y_model    = model_data[:,1]\n",
    "    \n",
    "    SSE = 0\n",
    "    for column in y_data:\n",
    "        SSE += np.sum((y_data[column]-y_model)**2)\n",
    "    \n",
    "    return SSE\n",
    "    "
   ]
  },
  {
   "cell_type": "code",
   "execution_count": 7,
   "metadata": {},
   "outputs": [
    {
     "name": "stdout",
     "output_type": "stream",
     "text": [
      "1.210589965016378e-10\n"
     ]
    }
   ],
   "source": [
    "print(get_SSE(tspan, y_data, params))"
   ]
  },
  {
   "cell_type": "markdown",
   "metadata": {},
   "source": [
    "## Optimization Function\n",
    "\n",
    "We will be using scipy's basinhopping algorithm for this problem, which seeks the minimum of an objective function. Since our goal is to minimize the SSE, our objective function is simply get_SSE. However, the documentation of the algorithm only allows the objective function to take in one argument. In addition, we already know the inducer concentration so we want it to be fixed. We thus wrap get_SSE as shown below. "
   ]
  },
  {
   "cell_type": "code",
   "execution_count": 8,
   "metadata": {},
   "outputs": [],
   "source": [
    "def objective_function_wrapper(tspan, y_data, inducer):\n",
    "    def helper(params):\n",
    "        #Inducer concentration is fixed at 1.\n",
    "        params_ = [1] + list(params)\n",
    "        return get_SSE(tspan, y_data, params)\n",
    "    return helper"
   ]
  },
  {
   "cell_type": "code",
   "execution_count": 9,
   "metadata": {},
   "outputs": [
    {
     "name": "stdout",
     "output_type": "stream",
     "text": [
      "basinhopping step 0: f 2.72187e-12\n",
      "basinhopping step 1: f 3.17656e-11 trial_f 3.17656e-11 accepted 1  lowest_f 2.72187e-12\n",
      "basinhopping step 2: f 3.07992e-11 trial_f 3.07992e-11 accepted 1  lowest_f 2.72187e-12\n",
      "basinhopping step 3: f 3.10216e-11 trial_f 3.10216e-11 accepted 1  lowest_f 2.72187e-12\n",
      "basinhopping step 4: f 1.78495e-09 trial_f 1.78495e-09 accepted 1  lowest_f 2.72187e-12\n",
      "basinhopping step 5: f 4.94979e-11 trial_f 4.94979e-11 accepted 1  lowest_f 2.72187e-12\n",
      "basinhopping step 6: f 2.9636e-08 trial_f 2.9636e-08 accepted 1  lowest_f 2.72187e-12\n",
      "basinhopping step 7: f 8.46941e-10 trial_f 8.46941e-10 accepted 1  lowest_f 2.72187e-12\n",
      "basinhopping step 8: f 5.32588e-10 trial_f 5.32588e-10 accepted 1  lowest_f 2.72187e-12\n",
      "basinhopping step 9: f 1.15642e-09 trial_f 1.15642e-09 accepted 1  lowest_f 2.72187e-12\n",
      "basinhopping step 10: f 1.76034e-07 trial_f 1.76034e-07 accepted 1  lowest_f 2.72187e-12\n",
      "basinhopping step 11: f 9.43885e-09 trial_f 9.43885e-09 accepted 1  lowest_f 2.72187e-12\n",
      "basinhopping step 12: f 9.20698e-09 trial_f 9.20698e-09 accepted 1  lowest_f 2.72187e-12\n",
      "basinhopping step 13: f 3.19316e-09 trial_f 3.19316e-09 accepted 1  lowest_f 2.72187e-12\n",
      "basinhopping step 14: f 1.18775e-08 trial_f 1.18775e-08 accepted 1  lowest_f 2.72187e-12\n",
      "basinhopping step 15: f 9.23889e-08 trial_f 9.23889e-08 accepted 1  lowest_f 2.72187e-12\n",
      "basinhopping step 16: f 3.70086e-07 trial_f 3.70086e-07 accepted 1  lowest_f 2.72187e-12\n",
      "basinhopping step 17: f 8.86668e-10 trial_f 8.86668e-10 accepted 1  lowest_f 2.72187e-12\n",
      "basinhopping step 18: f 1.00887e-07 trial_f 1.00887e-07 accepted 1  lowest_f 2.72187e-12\n",
      "basinhopping step 19: f 1.48628e-07 trial_f 1.48628e-07 accepted 1  lowest_f 2.72187e-12\n",
      "basinhopping step 20: f 5.43862e-09 trial_f 5.43862e-09 accepted 1  lowest_f 2.72187e-12\n",
      "basinhopping step 21: f 1.5963e-07 trial_f 1.5963e-07 accepted 1  lowest_f 2.72187e-12\n",
      "basinhopping step 22: f 6.7115e-11 trial_f 6.7115e-11 accepted 1  lowest_f 2.72187e-12\n",
      "basinhopping step 23: f 1.13978e-08 trial_f 1.13978e-08 accepted 1  lowest_f 2.72187e-12\n",
      "basinhopping step 24: f 2.51207e-07 trial_f 2.51207e-07 accepted 1  lowest_f 2.72187e-12\n",
      "basinhopping step 25: f 8.49473e-09 trial_f 8.49473e-09 accepted 1  lowest_f 2.72187e-12\n",
      "basinhopping step 26: f 4.80558e-07 trial_f 4.80558e-07 accepted 1  lowest_f 2.72187e-12\n",
      "basinhopping step 27: f 6.58298e-08 trial_f 6.58298e-08 accepted 1  lowest_f 2.72187e-12\n",
      "basinhopping step 28: f 1.07853e-08 trial_f 1.07853e-08 accepted 1  lowest_f 2.72187e-12\n",
      "basinhopping step 29: f 1.82929e-08 trial_f 1.82929e-08 accepted 1  lowest_f 2.72187e-12\n",
      "basinhopping step 30: f 3.20624e-09 trial_f 3.20624e-09 accepted 1  lowest_f 2.72187e-12\n",
      "basinhopping step 31: f 1.31202e-10 trial_f 1.31202e-10 accepted 1  lowest_f 2.72187e-12\n",
      "basinhopping step 32: f 3.76687e-11 trial_f 3.76687e-11 accepted 1  lowest_f 2.72187e-12\n",
      "basinhopping step 33: f 3.08448e-11 trial_f 3.08448e-11 accepted 1  lowest_f 2.72187e-12\n",
      "basinhopping step 34: f 1.21354e-09 trial_f 1.21354e-09 accepted 1  lowest_f 2.72187e-12\n",
      "basinhopping step 35: f 1.25958e-09 trial_f 1.25958e-09 accepted 1  lowest_f 2.72187e-12\n",
      "basinhopping step 36: f 1.75152e-10 trial_f 1.75152e-10 accepted 1  lowest_f 2.72187e-12\n",
      "basinhopping step 37: f 3.1372e-11 trial_f 3.1372e-11 accepted 1  lowest_f 2.72187e-12\n",
      "basinhopping step 38: f 9.61628e-09 trial_f 9.61628e-09 accepted 1  lowest_f 2.72187e-12\n",
      "basinhopping step 39: f 4.53648e-08 trial_f 4.53648e-08 accepted 1  lowest_f 2.72187e-12\n",
      "basinhopping step 40: f 9.2484e-08 trial_f 9.2484e-08 accepted 1  lowest_f 2.72187e-12\n",
      "basinhopping step 41: f 1.72599e-07 trial_f 1.72599e-07 accepted 1  lowest_f 2.72187e-12\n",
      "basinhopping step 42: f 2.24472e-07 trial_f 2.24472e-07 accepted 1  lowest_f 2.72187e-12\n",
      "basinhopping step 43: f 7.67678e-07 trial_f 7.67678e-07 accepted 1  lowest_f 2.72187e-12\n",
      "basinhopping step 44: f 4.34635e-07 trial_f 4.34635e-07 accepted 1  lowest_f 2.72187e-12\n",
      "basinhopping step 45: f 4.20188e-10 trial_f 4.20188e-10 accepted 1  lowest_f 2.72187e-12\n",
      "basinhopping step 46: f 5.47164e-09 trial_f 5.47164e-09 accepted 1  lowest_f 2.72187e-12\n",
      "basinhopping step 47: f 6.36924e-09 trial_f 6.36924e-09 accepted 1  lowest_f 2.72187e-12\n",
      "basinhopping step 48: f 1.63196e-09 trial_f 1.63196e-09 accepted 1  lowest_f 2.72187e-12\n",
      "basinhopping step 49: f 6.49789e-08 trial_f 6.49789e-08 accepted 1  lowest_f 2.72187e-12\n",
      "adaptive stepsize: acceptance rate 0.980000 target 0.500000 new stepsize 0.555556 old stepsize 0.5\n",
      "basinhopping step 50: f 9.0559e-08 trial_f 9.0559e-08 accepted 1  lowest_f 2.72187e-12\n",
      "basinhopping step 51: f 2.13834e-07 trial_f 2.13834e-07 accepted 1  lowest_f 2.72187e-12\n",
      "basinhopping step 52: f 1.18067e-07 trial_f 1.18067e-07 accepted 1  lowest_f 2.72187e-12\n",
      "basinhopping step 53: f 3.2417e-07 trial_f 3.2417e-07 accepted 1  lowest_f 2.72187e-12\n",
      "basinhopping step 54: f 1.83493e-08 trial_f 1.83493e-08 accepted 1  lowest_f 2.72187e-12\n",
      "basinhopping step 55: f 9.14732e-09 trial_f 9.14732e-09 accepted 1  lowest_f 2.72187e-12\n",
      "basinhopping step 56: f 1.96252e-07 trial_f 1.96252e-07 accepted 1  lowest_f 2.72187e-12\n",
      "basinhopping step 57: f 1.15911e-07 trial_f 1.15911e-07 accepted 1  lowest_f 2.72187e-12\n",
      "basinhopping step 58: f 6.38759e-08 trial_f 6.38759e-08 accepted 1  lowest_f 2.72187e-12\n",
      "basinhopping step 59: f 4.65016e-08 trial_f 4.65016e-08 accepted 1  lowest_f 2.72187e-12\n",
      "basinhopping step 60: f 9.95245e-08 trial_f 9.95245e-08 accepted 1  lowest_f 2.72187e-12\n",
      "basinhopping step 61: f 4.04667e-08 trial_f 4.04667e-08 accepted 1  lowest_f 2.72187e-12\n",
      "basinhopping step 62: f 4.05312e-07 trial_f 4.05312e-07 accepted 1  lowest_f 2.72187e-12\n",
      "basinhopping step 63: f 1.42866e-07 trial_f 1.42866e-07 accepted 1  lowest_f 2.72187e-12\n",
      "basinhopping step 64: f 3.8765e-09 trial_f 3.8765e-09 accepted 1  lowest_f 2.72187e-12\n",
      "basinhopping step 65: f 3.39942e-09 trial_f 3.39942e-09 accepted 1  lowest_f 2.72187e-12\n",
      "basinhopping step 66: f 6.68562e-09 trial_f 6.68562e-09 accepted 1  lowest_f 2.72187e-12\n",
      "basinhopping step 67: f 5.48363e-09 trial_f 5.48363e-09 accepted 1  lowest_f 2.72187e-12\n",
      "basinhopping step 68: f 9.07224e-09 trial_f 9.07224e-09 accepted 1  lowest_f 2.72187e-12\n",
      "basinhopping step 69: f 2.02207e-08 trial_f 2.02207e-08 accepted 1  lowest_f 2.72187e-12\n",
      "basinhopping step 70: f 1.12822e-07 trial_f 1.12822e-07 accepted 1  lowest_f 2.72187e-12\n",
      "basinhopping step 71: f 6.3201e-07 trial_f 6.3201e-07 accepted 1  lowest_f 2.72187e-12\n",
      "basinhopping step 72: f 3.9583e-07 trial_f 3.9583e-07 accepted 1  lowest_f 2.72187e-12\n",
      "basinhopping step 73: f 8.91524e-08 trial_f 8.91524e-08 accepted 1  lowest_f 2.72187e-12\n",
      "basinhopping step 74: f 6.63877e-11 trial_f 6.63877e-11 accepted 1  lowest_f 2.72187e-12\n",
      "basinhopping step 75: f 1.55382e-07 trial_f 1.55382e-07 accepted 1  lowest_f 2.72187e-12\n",
      "basinhopping step 76: f 2.42094e-07 trial_f 2.42094e-07 accepted 1  lowest_f 2.72187e-12\n",
      "basinhopping step 77: f 5.03573e-08 trial_f 5.03573e-08 accepted 1  lowest_f 2.72187e-12\n",
      "basinhopping step 78: f 5.96316e-09 trial_f 5.96316e-09 accepted 1  lowest_f 2.72187e-12\n",
      "basinhopping step 79: f 1.89747e-07 trial_f 1.89747e-07 accepted 1  lowest_f 2.72187e-12\n",
      "basinhopping step 80: f 5.85953e-07 trial_f 5.85953e-07 accepted 1  lowest_f 2.72187e-12\n",
      "basinhopping step 81: f 1.33221e-07 trial_f 1.33221e-07 accepted 1  lowest_f 2.72187e-12\n",
      "basinhopping step 82: f 8.96846e-08 trial_f 8.96846e-08 accepted 1  lowest_f 2.72187e-12\n",
      "basinhopping step 83: f 5.57908e-09 trial_f 5.57908e-09 accepted 1  lowest_f 2.72187e-12\n",
      "basinhopping step 84: f 3.40423e-08 trial_f 3.40423e-08 accepted 1  lowest_f 2.72187e-12\n",
      "basinhopping step 85: f 2.45827e-07 trial_f 2.45827e-07 accepted 1  lowest_f 2.72187e-12\n",
      "basinhopping step 86: f 2.9492e-08 trial_f 2.9492e-08 accepted 1  lowest_f 2.72187e-12\n",
      "basinhopping step 87: f 6.58815e-07 trial_f 6.58815e-07 accepted 1  lowest_f 2.72187e-12\n",
      "basinhopping step 88: f 8.57044e-10 trial_f 8.57044e-10 accepted 1  lowest_f 2.72187e-12\n",
      "basinhopping step 89: f 3.76206e-08 trial_f 3.76206e-08 accepted 1  lowest_f 2.72187e-12\n",
      "basinhopping step 90: f 8.86546e-11 trial_f 8.86546e-11 accepted 1  lowest_f 2.72187e-12\n",
      "basinhopping step 91: f 1.18283e-09 trial_f 1.18283e-09 accepted 1  lowest_f 2.72187e-12\n",
      "basinhopping step 92: f 3.12718e-11 trial_f 3.12718e-11 accepted 1  lowest_f 2.72187e-12\n"
     ]
    },
    {
     "name": "stdout",
     "output_type": "stream",
     "text": [
      "basinhopping step 93: f 5.37484e-09 trial_f 5.37484e-09 accepted 1  lowest_f 2.72187e-12\n",
      "basinhopping step 94: f 9.65924e-10 trial_f 9.65924e-10 accepted 1  lowest_f 2.72187e-12\n",
      "basinhopping step 95: f 6.15192e-07 trial_f 6.15192e-07 accepted 1  lowest_f 2.72187e-12\n",
      "basinhopping step 96: f 1.07297e-08 trial_f 1.07297e-08 accepted 1  lowest_f 2.72187e-12\n",
      "basinhopping step 97: f 3.0567e-08 trial_f 3.0567e-08 accepted 1  lowest_f 2.72187e-12\n",
      "basinhopping step 98: f 3.88002e-08 trial_f 3.88002e-08 accepted 1  lowest_f 2.72187e-12\n",
      "basinhopping step 99: f 5.59248e-08 trial_f 5.59248e-08 accepted 1  lowest_f 2.72187e-12\n",
      "adaptive stepsize: acceptance rate 0.990000 target 0.500000 new stepsize 0.617284 old stepsize 0.555556\n",
      "basinhopping step 100: f 7.72412e-07 trial_f 7.72412e-07 accepted 1  lowest_f 2.72187e-12\n",
      "                        fun: 2.7218665275270594e-12\n",
      " lowest_optimization_result:       fun: 2.7218665275270594e-12\n",
      " hess_inv: array([[ 9.99999999e-01, -2.40354250e-05,  7.89109738e-11,\n",
      "         5.00598377e-09, -1.01265627e-07,  5.84174977e-08],\n",
      "       [-2.40354250e-05,  5.25192659e-01,  1.97119322e-06,\n",
      "         1.24237776e-04, -2.51546798e-03,  1.45632938e-03],\n",
      "       [ 7.89109738e-11,  1.97119322e-06,  1.00000000e+00,\n",
      "        -4.09429135e-10,  8.28263540e-09, -4.78086155e-09],\n",
      "       [ 5.00598377e-09,  1.24237776e-04, -4.09429135e-10,\n",
      "         9.99999974e-01,  5.25172931e-07, -3.03354069e-07],\n",
      "       [-1.01265627e-07, -2.51546798e-03,  8.28263540e-09,\n",
      "         5.25172931e-07,  9.99989375e-01,  6.13624778e-06],\n",
      "       [ 5.84174977e-08,  1.45632938e-03, -4.78086155e-09,\n",
      "        -3.03354069e-07,  6.13624778e-06,  9.99996462e-01]])\n",
      "      jac: array([ 5.80669977e-12,  2.15213698e-07, -4.71080558e-13, -3.16938187e-11,\n",
      "        6.42207262e-10, -2.05130227e-10])\n",
      "  message: 'Optimization terminated successfully.'\n",
      "     nfev: 32\n",
      "      nit: 3\n",
      "     njev: 4\n",
      "   status: 0\n",
      "  success: True\n",
      "        x: array([1.00000000e+00, 3.13395746e-05, 1.20000000e+01, 1.99999999e-01,\n",
      "       1.00000134e-02, 1.49999915e-02])\n",
      "                    message: ['requested number of basinhopping iterations completed successfully']\n",
      "      minimization_failures: 0\n",
      "                       nfev: 5464\n",
      "                        nit: 100\n",
      "                       njev: 683\n",
      "                          x: array([1.00000000e+00, 3.13395746e-05, 1.20000000e+01, 1.99999999e-01,\n",
      "       1.00000134e-02, 1.49999915e-02])\n"
     ]
    }
   ],
   "source": [
    "#Wrap get_SSE\n",
    "objective_function = objective_function_wrapper(tspan, y_data, params[0])\n",
    "#This function now takes in the params as the sole argument and returns the SSE.\n",
    "\n",
    "#Run optimizer.\n",
    "x0     = list(params)[1:] #Remember not to include the inducer!\n",
    "result = basinhopping(objective_function, x0=params, niter=100, disp=True)\n",
    "best_value  = result.fun\n",
    "best_params = result.x\n",
    "print(result)"
   ]
  },
  {
   "cell_type": "markdown",
   "metadata": {},
   "source": [
    "## Check the Result"
   ]
  },
  {
   "cell_type": "code",
   "execution_count": 10,
   "metadata": {},
   "outputs": [
    {
     "data": {
      "image/png": "[encoded data removed]",
      "text/plain": [
       "<Figure size 432x288 with 1 Axes>"
      ]
     },
     "metadata": {},
     "output_type": "display_data"
    }
   ],
   "source": [
    "model_data = odeint(model, y_init, tspan, args=tuple([best_params]))\n",
    "y_model    = model_data[:,1]\n",
    "\n",
    "fig3 = plt.figure()\n",
    "ax3  = fig3.add_subplot(1,1,1)\n",
    "ax3.plot(tspan, y_data,'o')\n",
    "ax3.plot(tspan, y_model)\n",
    "setting = ax1.set(title='Observed data', xlabel='Time (hr)', ylabel='Conc')"
   ]
  },
  {
   "cell_type": "code",
   "execution_count": 11,
   "metadata": {},
   "outputs": [],
   "source": [
    "#True parameter values\n",
    "answer = {'inducer' : 1,\n",
    "           'vmax1'   : 1e-5,  \n",
    "           'km1'     : 10, \n",
    "           'deg1'    : 0.15,  \n",
    "           'vmax2'   : 0.02,\n",
    "           'mu'      : 0.015\n",
    "          }"
   ]
  },
  {
   "cell_type": "markdown",
   "metadata": {},
   "source": [
    "## Assignment\n",
    "\n",
    "\n",
    "1. Use a different model. \n",
    "    - Suppose we want to simplify the model into a one-step process i.e. protein synthesis is directly controlled by the inducer with no mRNA involved. Write your own model function and repeat the steps above using your model.\n",
    "    - Suppose we want to model gene expression as a two-step process plus one maturation step i.e. protein synthesis is followed by a first order maturation step. Write your own model function and repeat the steps above using your model.\n",
    "\n",
    "2. Use a different optimizer.\n",
    "    - Suppose we want to use differential evolution for curve-fitting. Repeat the steps above using scipy's differential evolution optimizer.\n",
    "    - Suppose we want to use dual annealing for curve-fitting. Repeat the steps above using scipy's dual annealing optimizer.\n",
    "\n",
    "3. Test your understanding\n",
    "    - Why do we use sum squared error instead of simply summing up the errors directly?\n",
    "    - Suppose we use an optimizer that searches for the maximum value of an objective function. Do we need to change the objective function? If so, how should we change it?\n",
    "\n",
    "4. Analyze the results\n",
    "    - The true parameters used to generate the data are shown in the cell above. Does your simulations always converge to the true parameters? Why? What are the underlying factors? How can we ensure that we can determine the true parameters? Does it always matter if we cannot determine the true parameters? (1000 words)"
   ]
  }
 ],
 "metadata": {
  "kernelspec": {
   "display_name": "Python 3",
   "language": "python",
   "name": "python3"
  },
  "language_info": {
   "codemirror_mode": {
    "name": "ipython",
    "version": 3
   },
   "file_extension": ".py",
   "mimetype": "text/x-python",
   "name": "python",
   "nbconvert_exporter": "python",
   "pygments_lexer": "ipython3",
   "version": "3.7.6"
  }
 },
 "nbformat": 4,
 "nbformat_minor": 4
}
