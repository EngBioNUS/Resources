{
 "cells": [
  {
   "cell_type": "markdown",
   "metadata": {},
   "source": [
    "# NOTE\n",
    "1. Added a new function called take_step\n",
    "2. Modified objective_function_wrapper"
   ]
  },
  {
   "cell_type": "code",
   "execution_count": 1,
   "metadata": {},
   "outputs": [],
   "source": [
    "import numpy             as np\n",
    "import matplotlib.pyplot as plt\n",
    "import pandas            as pd\n",
    "import seaborn           as sns\n",
    "from matplotlib          import rcParams\n",
    "from scipy.integrate     import odeint\n",
    "from scipy.optimize      import basinhopping\n",
    "\n",
    "plt.close('all')\n",
    "sns.set_context('notebook')\n",
    "rcParams['figure.facecolor'] = 'white'\n",
    "rcParams['axes.facecolor']   = 'white'\n"
   ]
  },
  {
   "cell_type": "markdown",
   "metadata": {},
   "source": [
    "## Define the Model"
   ]
  },
  {
   "cell_type": "code",
   "execution_count": 2,
   "metadata": {},
   "outputs": [],
   "source": [
    "def model(y, t, params):\n",
    "    mRNA = y[0]\n",
    "    prot = y[1]\n",
    "    \n",
    "    inducer = params[0]\n",
    "    synm    = params[1]  \n",
    "    k_ind   = params[2] \n",
    "    degm    = params[3] \n",
    "    synp    = params[4]\n",
    "    mu      = params[5]\n",
    "    \n",
    "    dmRNA = synm*(inducer)/(inducer+k_ind)-degm*mRNA\n",
    "    dprot = synp*mRNA-mu*prot\n",
    "    \n",
    "    return np.array([dmRNA, dprot])"
   ]
  },
  {
   "cell_type": "markdown",
   "metadata": {},
   "source": [
    "## Plot Data"
   ]
  },
  {
   "cell_type": "code",
   "execution_count": 3,
   "metadata": {},
   "outputs": [
    {
     "data": {
      "image/png": "[encoded data removed]",
      "text/plain": [
       "<Figure size 432x288 with 1 Axes>"
      ]
     },
     "metadata": {},
     "output_type": "display_data"
    }
   ],
   "source": [
    "#Part 1: Produce a data set (evidence) and plot it\n",
    "raw_data = pd.read_csv(\"Example_Data.csv\")\n",
    "tspan    = raw_data.iloc[:,0]\n",
    "y_data   = raw_data.iloc[:,1:]\n",
    "\n",
    "fig1 = plt.figure()\n",
    "ax1  = fig1.add_subplot(1,1,1)\n",
    "ax1.plot(tspan, y_data,'o')\n",
    "setting = ax1.set(title='Observed data', xlabel='Time (hr)', ylabel='Conc')\n",
    "\n"
   ]
  },
  {
   "cell_type": "markdown",
   "metadata": {},
   "source": [
    "## Integrating the Model"
   ]
  },
  {
   "cell_type": "code",
   "execution_count": 4,
   "metadata": {},
   "outputs": [
    {
     "data": {
      "image/png": "[encoded data removed]",
      "text/plain": [
       "<Figure size 432x288 with 1 Axes>"
      ]
     },
     "metadata": {},
     "output_type": "display_data"
    }
   ],
   "source": [
    "# Part 2: Integrate model using a set of parameters\n",
    "\n",
    "y_init  = [0, 2.5e-8]\n",
    "values  = {'inducer' : 1,\n",
    "           'synm1'   : 2e-5,  \n",
    "           'k_ind'   : 12, \n",
    "           'degm'    : 0.2,  \n",
    "           'synp'    : 0.01,\n",
    "           'mu'      : 0.015\n",
    "          }\n",
    "params     = list(values.values())\n",
    "tspan= [0, 60, 120, 180, 240, 300, 360]\n",
    "model_data = odeint(model, y_init, tspan, args=tuple([params]))\n",
    "y_model    = model_data[:,1]\n",
    "\n",
    "fig2 = plt.figure()\n",
    "ax2  = fig2.add_subplot(1,1,1)\n",
    "ax2.plot(tspan, y_data,'o')\n",
    "ax2.plot(tspan, y_model)\n",
    "setting = ax1.set(title='Observed data', xlabel='Time (hr)', ylabel='Conc')"
   ]
  },
  {
   "cell_type": "markdown",
   "metadata": {},
   "source": [
    "## Calculating Sum Squared Error"
   ]
  },
  {
   "cell_type": "code",
   "execution_count": 5,
   "metadata": {},
   "outputs": [
    {
     "name": "stdout",
     "output_type": "stream",
     "text": [
      "1.210589965016378e-10\n"
     ]
    }
   ],
   "source": [
    "#Part 3: Calculate error\n",
    "\n",
    "SSE = 0\n",
    "for column in y_data:\n",
    "    SSE += np.sum((y_data[column]-y_model)**2)\n",
    "\n",
    "print(SSE)"
   ]
  },
  {
   "cell_type": "markdown",
   "metadata": {},
   "source": [
    "## Wrap Process into a Function"
   ]
  },
  {
   "cell_type": "code",
   "execution_count": 6,
   "metadata": {},
   "outputs": [],
   "source": [
    "def get_SSE(tspan, y_data, params):\n",
    "    model_data = odeint(model, y_init, tspan, args=tuple([params]))\n",
    "    y_model    = model_data[:,1]\n",
    "    \n",
    "    SSE = 0\n",
    "    for column in y_data:\n",
    "        SSE += np.sum((y_data[column]-y_model)**2)\n",
    "    \n",
    "    return SSE\n",
    "    "
   ]
  },
  {
   "cell_type": "code",
   "execution_count": 7,
   "metadata": {},
   "outputs": [
    {
     "name": "stdout",
     "output_type": "stream",
     "text": [
      "1.210589965016378e-10\n"
     ]
    }
   ],
   "source": [
    "print(get_SSE(tspan, y_data, params))"
   ]
  },
  {
   "cell_type": "markdown",
   "metadata": {},
   "source": [
    "## Optimization Function\n",
    "\n",
    "We will be using scipy's basinhopping algorithm for this problem, which seeks the minimum of an objective function. Since our goal is to minimize the SSE, our objective function is simply get_SSE. However, the documentation of the algorithm only allows the objective function to take in one argument. In addition, we already know the inducer concentration so we want it to be fixed. We thus wrap get_SSE as shown below. "
   ]
  },
  {
   "cell_type": "code",
   "execution_count": 8,
   "metadata": {},
   "outputs": [],
   "source": [
    "def objective_function_wrapper(tspan, y_data, inducer):\n",
    "    def helper(params):\n",
    "        #Inducer concentration is fixed at 1.\n",
    "        params_ = [inducer] + list(params)\n",
    "        return get_SSE(tspan, y_data, params_)\n",
    "    return helper"
   ]
  },
  {
   "cell_type": "code",
   "execution_count": 9,
   "metadata": {},
   "outputs": [],
   "source": [
    "#Step size\n",
    "def take_step(params):\n",
    "    delta      = np.random.rand(len(params)) -0.5\n",
    "    new_params = params + delta*params\n",
    "    \n",
    "    return new_params\n"
   ]
  },
  {
   "cell_type": "code",
   "execution_count": 10,
   "metadata": {},
   "outputs": [
    {
     "name": "stdout",
     "output_type": "stream",
     "text": [
      "basinhopping step 0: f 3.8787e-11\n",
      "basinhopping step 1: f 3.29491e-11 trial_f 3.29491e-11 accepted 1  lowest_f 3.29491e-11\n",
      "found new global minimum on step 1 with function value 3.29491e-11\n",
      "basinhopping step 2: f 3.24582e-11 trial_f 3.24582e-11 accepted 1  lowest_f 3.24582e-11\n",
      "found new global minimum on step 2 with function value 3.24582e-11\n",
      "basinhopping step 3: f 3.0799e-11 trial_f 3.0799e-11 accepted 1  lowest_f 3.0799e-11\n",
      "found new global minimum on step 3 with function value 3.0799e-11\n",
      "basinhopping step 4: f 3.15921e-11 trial_f 3.15921e-11 accepted 1  lowest_f 3.0799e-11\n",
      "basinhopping step 5: f 9.07092e-11 trial_f 9.07092e-11 accepted 1  lowest_f 3.0799e-11\n",
      "basinhopping step 6: f 4.02112e-11 trial_f 4.02112e-11 accepted 1  lowest_f 3.0799e-11\n",
      "basinhopping step 7: f 1.06825e-10 trial_f 1.06825e-10 accepted 1  lowest_f 3.0799e-11\n",
      "basinhopping step 8: f 1.86604e-10 trial_f 1.86604e-10 accepted 1  lowest_f 3.0799e-11\n",
      "basinhopping step 9: f 3.10859e-11 trial_f 3.10859e-11 accepted 1  lowest_f 3.0799e-11\n",
      "basinhopping step 10: f 3.0799e-11 trial_f 3.0799e-11 accepted 1  lowest_f 3.0799e-11\n",
      "basinhopping step 11: f 4.13303e-11 trial_f 4.13303e-11 accepted 1  lowest_f 3.0799e-11\n",
      "basinhopping step 12: f 3.0799e-11 trial_f 3.0799e-11 accepted 1  lowest_f 3.0799e-11\n",
      "basinhopping step 13: f 3.40294e-11 trial_f 3.40294e-11 accepted 1  lowest_f 3.0799e-11\n",
      "basinhopping step 14: f 3.07992e-11 trial_f 3.07992e-11 accepted 1  lowest_f 3.0799e-11\n",
      "basinhopping step 15: f 3.08007e-11 trial_f 3.08007e-11 accepted 1  lowest_f 3.0799e-11\n",
      "basinhopping step 16: f 3.07993e-11 trial_f 3.07993e-11 accepted 1  lowest_f 3.0799e-11\n",
      "basinhopping step 17: f 3.07991e-11 trial_f 3.07991e-11 accepted 1  lowest_f 3.0799e-11\n",
      "basinhopping step 18: f 3.07997e-11 trial_f 3.07997e-11 accepted 1  lowest_f 3.0799e-11\n",
      "basinhopping step 19: f 3.07993e-11 trial_f 3.07993e-11 accepted 1  lowest_f 3.0799e-11\n",
      "basinhopping step 20: f 3.08014e-11 trial_f 3.08014e-11 accepted 1  lowest_f 3.0799e-11\n",
      "basinhopping step 21: f 3.07992e-11 trial_f 3.07992e-11 accepted 1  lowest_f 3.0799e-11\n",
      "basinhopping step 22: f 7.02502e-11 trial_f 7.02502e-11 accepted 1  lowest_f 3.0799e-11\n",
      "basinhopping step 23: f 1.98958e-10 trial_f 1.98958e-10 accepted 1  lowest_f 3.0799e-11\n",
      "basinhopping step 24: f 5.77781e-11 trial_f 5.77781e-11 accepted 1  lowest_f 3.0799e-11\n",
      "basinhopping step 25: f 1.58156e-10 trial_f 1.58156e-10 accepted 1  lowest_f 3.0799e-11\n",
      "basinhopping step 26: f 5.33077e-10 trial_f 5.33077e-10 accepted 1  lowest_f 3.0799e-11\n",
      "basinhopping step 27: f 7.26477e-10 trial_f 7.26477e-10 accepted 1  lowest_f 3.0799e-11\n",
      "basinhopping step 28: f 7.62657e-10 trial_f 7.62657e-10 accepted 1  lowest_f 3.0799e-11\n",
      "basinhopping step 29: f 8.13051e-10 trial_f 8.13051e-10 accepted 1  lowest_f 3.0799e-11\n",
      "basinhopping step 30: f 8.02683e-10 trial_f 8.02683e-10 accepted 1  lowest_f 3.0799e-11\n",
      "basinhopping step 31: f 7.66513e-10 trial_f 7.66513e-10 accepted 1  lowest_f 3.0799e-11\n",
      "basinhopping step 32: f 7.51498e-10 trial_f 7.51498e-10 accepted 1  lowest_f 3.0799e-11\n",
      "basinhopping step 33: f 8.12633e-10 trial_f 8.12633e-10 accepted 1  lowest_f 3.0799e-11\n",
      "basinhopping step 34: f 8.67463e-10 trial_f 8.67463e-10 accepted 1  lowest_f 3.0799e-11\n",
      "basinhopping step 35: f 6.95198e-10 trial_f 6.95198e-10 accepted 1  lowest_f 3.0799e-11\n",
      "basinhopping step 36: f 7.83714e-10 trial_f 7.83714e-10 accepted 1  lowest_f 3.0799e-11\n",
      "basinhopping step 37: f 8.22775e-10 trial_f 8.22775e-10 accepted 1  lowest_f 3.0799e-11\n",
      "basinhopping step 38: f 6.6893e-10 trial_f 6.6893e-10 accepted 1  lowest_f 3.0799e-11\n",
      "basinhopping step 39: f 1.69083e-10 trial_f 1.69083e-10 accepted 1  lowest_f 3.0799e-11\n",
      "basinhopping step 40: f 2.94836e-11 trial_f 2.94836e-11 accepted 1  lowest_f 2.94836e-11\n",
      "found new global minimum on step 40 with function value 2.94836e-11\n",
      "basinhopping step 41: f 6.5696e-11 trial_f 6.5696e-11 accepted 1  lowest_f 2.94836e-11\n",
      "basinhopping step 42: f 3.03228e-11 trial_f 3.03228e-11 accepted 1  lowest_f 2.94836e-11\n",
      "basinhopping step 43: f 2.02803e-11 trial_f 2.02803e-11 accepted 1  lowest_f 2.02803e-11\n",
      "found new global minimum on step 43 with function value 2.02803e-11\n",
      "basinhopping step 44: f 7.94962e-12 trial_f 7.94962e-12 accepted 1  lowest_f 7.94962e-12\n",
      "found new global minimum on step 44 with function value 7.94962e-12\n",
      "basinhopping step 45: f 6.87425e-12 trial_f 6.87425e-12 accepted 1  lowest_f 6.87425e-12\n",
      "found new global minimum on step 45 with function value 6.87425e-12\n",
      "basinhopping step 46: f 6.91913e-12 trial_f 6.91913e-12 accepted 1  lowest_f 6.87425e-12\n",
      "basinhopping step 47: f 8.68726e-12 trial_f 8.68726e-12 accepted 1  lowest_f 6.87425e-12\n",
      "basinhopping step 48: f 1.72588e-11 trial_f 1.72588e-11 accepted 1  lowest_f 6.87425e-12\n",
      "basinhopping step 49: f 1.39328e-11 trial_f 1.39328e-11 accepted 1  lowest_f 6.87425e-12\n",
      "basinhopping step 50: f 1.95327e-11 trial_f 1.95327e-11 accepted 1  lowest_f 6.87425e-12\n",
      "basinhopping step 51: f 1.28102e-11 trial_f 1.28102e-11 accepted 1  lowest_f 6.87425e-12\n",
      "basinhopping step 52: f 2.08283e-11 trial_f 2.08283e-11 accepted 1  lowest_f 6.87425e-12\n",
      "basinhopping step 53: f 5.53107e-11 trial_f 5.53107e-11 accepted 1  lowest_f 6.87425e-12\n",
      "basinhopping step 54: f 1.95231e-10 trial_f 1.95231e-10 accepted 1  lowest_f 6.87425e-12\n",
      "basinhopping step 55: f 4.74908e-11 trial_f 4.74908e-11 accepted 1  lowest_f 6.87425e-12\n",
      "basinhopping step 56: f 1.72711e-10 trial_f 1.72711e-10 accepted 1  lowest_f 6.87425e-12\n",
      "basinhopping step 57: f 5.26409e-11 trial_f 5.26409e-11 accepted 1  lowest_f 6.87425e-12\n",
      "basinhopping step 58: f 5.38507e-12 trial_f 5.38507e-12 accepted 1  lowest_f 5.38507e-12\n",
      "found new global minimum on step 58 with function value 5.38507e-12\n",
      "basinhopping step 59: f 1.34399e-10 trial_f 1.34399e-10 accepted 1  lowest_f 5.38507e-12\n",
      "basinhopping step 60: f 1.39326e-11 trial_f 1.39326e-11 accepted 1  lowest_f 5.38507e-12\n",
      "basinhopping step 61: f 9.61584e-12 trial_f 9.61584e-12 accepted 1  lowest_f 5.38507e-12\n",
      "basinhopping step 62: f 8.06503e-12 trial_f 8.06503e-12 accepted 1  lowest_f 5.38507e-12\n",
      "basinhopping step 63: f 7.10588e-12 trial_f 7.10588e-12 accepted 1  lowest_f 5.38507e-12\n",
      "basinhopping step 64: f 1.02487e-10 trial_f 1.02487e-10 accepted 1  lowest_f 5.38507e-12\n",
      "basinhopping step 65: f 3.05731e-10 trial_f 3.05731e-10 accepted 1  lowest_f 5.38507e-12\n",
      "basinhopping step 66: f 2.73702e-12 trial_f 2.73702e-12 accepted 1  lowest_f 2.73702e-12\n",
      "found new global minimum on step 66 with function value 2.73702e-12\n",
      "basinhopping step 67: f 1.05059e-11 trial_f 1.05059e-11 accepted 1  lowest_f 2.73702e-12\n",
      "basinhopping step 68: f 3.70194e-12 trial_f 3.70194e-12 accepted 1  lowest_f 2.73702e-12\n",
      "basinhopping step 69: f 3.25775e-11 trial_f 3.25775e-11 accepted 1  lowest_f 2.73702e-12\n",
      "basinhopping step 70: f 2.66067e-11 trial_f 2.66067e-11 accepted 1  lowest_f 2.73702e-12\n",
      "basinhopping step 71: f 3.93906e-11 trial_f 3.93906e-11 accepted 1  lowest_f 2.73702e-12\n",
      "basinhopping step 72: f 5.48936e-11 trial_f 5.48936e-11 accepted 1  lowest_f 2.73702e-12\n",
      "basinhopping step 73: f 4.57752e-11 trial_f 4.57752e-11 accepted 1  lowest_f 2.73702e-12\n",
      "basinhopping step 74: f 4.22369e-11 trial_f 4.22369e-11 accepted 1  lowest_f 2.73702e-12\n",
      "basinhopping step 75: f 3.42728e-11 trial_f 3.42728e-11 accepted 1  lowest_f 2.73702e-12\n",
      "basinhopping step 76: f 4.62109e-11 trial_f 4.62109e-11 accepted 1  lowest_f 2.73702e-12\n",
      "basinhopping step 77: f 6.35248e-11 trial_f 6.35248e-11 accepted 1  lowest_f 2.73702e-12\n",
      "basinhopping step 78: f 6.95508e-11 trial_f 6.95508e-11 accepted 1  lowest_f 2.73702e-12\n",
      "basinhopping step 79: f 7.50772e-11 trial_f 7.50772e-11 accepted 1  lowest_f 2.73702e-12\n",
      "basinhopping step 80: f 7.74351e-11 trial_f 7.74351e-11 accepted 1  lowest_f 2.73702e-12\n",
      "basinhopping step 81: f 7.80383e-11 trial_f 7.80383e-11 accepted 1  lowest_f 2.73702e-12\n",
      "basinhopping step 82: f 7.83967e-11 trial_f 7.83967e-11 accepted 1  lowest_f 2.73702e-12\n",
      "basinhopping step 83: f 8.03342e-11 trial_f 8.03342e-11 accepted 1  lowest_f 2.73702e-12\n",
      "basinhopping step 84: f 8.18477e-11 trial_f 8.18477e-11 accepted 1  lowest_f 2.73702e-12\n",
      "basinhopping step 85: f 8.27223e-11 trial_f 8.27223e-11 accepted 1  lowest_f 2.73702e-12\n",
      "basinhopping step 86: f 8.15591e-11 trial_f 8.15591e-11 accepted 1  lowest_f 2.73702e-12\n",
      "basinhopping step 87: f 8.05046e-11 trial_f 8.05046e-11 accepted 1  lowest_f 2.73702e-12\n",
      "basinhopping step 88: f 8.00157e-11 trial_f 8.00157e-11 accepted 1  lowest_f 2.73702e-12\n"
     ]
    },
    {
     "name": "stdout",
     "output_type": "stream",
     "text": [
      "basinhopping step 89: f 8.14182e-11 trial_f 8.14182e-11 accepted 1  lowest_f 2.73702e-12\n",
      "basinhopping step 90: f 7.86176e-11 trial_f 7.86176e-11 accepted 1  lowest_f 2.73702e-12\n",
      "basinhopping step 91: f 7.84402e-11 trial_f 7.84402e-11 accepted 1  lowest_f 2.73702e-12\n",
      "basinhopping step 92: f 8.24145e-11 trial_f 8.24145e-11 accepted 1  lowest_f 2.73702e-12\n",
      "basinhopping step 93: f 8.63127e-11 trial_f 8.63127e-11 accepted 1  lowest_f 2.73702e-12\n",
      "basinhopping step 94: f 8.48951e-11 trial_f 8.48951e-11 accepted 1  lowest_f 2.73702e-12\n",
      "basinhopping step 95: f 8.26664e-11 trial_f 8.26664e-11 accepted 1  lowest_f 2.73702e-12\n",
      "basinhopping step 96: f 8.61675e-11 trial_f 8.61675e-11 accepted 1  lowest_f 2.73702e-12\n",
      "basinhopping step 97: f 8.77259e-11 trial_f 8.77259e-11 accepted 1  lowest_f 2.73702e-12\n",
      "basinhopping step 98: f 9.37411e-11 trial_f 9.37411e-11 accepted 1  lowest_f 2.73702e-12\n",
      "basinhopping step 99: f 8.94318e-11 trial_f 8.94318e-11 accepted 1  lowest_f 2.73702e-12\n",
      "basinhopping step 100: f 8.81283e-11 trial_f 8.81283e-11 accepted 1  lowest_f 2.73702e-12\n"
     ]
    }
   ],
   "source": [
    "#Wrap get_SSE\n",
    "objective_function = objective_function_wrapper(tspan, y_data, params[0])\n",
    "#This function now takes in the params as the sole argument and returns the SSE.\n",
    "\n",
    "#Run optimizer.\n",
    "x0     = list(params)[1:] #Remember not to include the inducer!\n",
    "result = basinhopping(objective_function, x0=params, niter=100, disp=True, \n",
    "                      take_step=take_step)"
   ]
  },
  {
   "cell_type": "code",
   "execution_count": 11,
   "metadata": {},
   "outputs": [
    {
     "name": "stdout",
     "output_type": "stream",
     "text": [
      "                        fun: 2.737021258065067e-12\n",
      " lowest_optimization_result:       fun: 2.737021258065067e-12\n",
      " hess_inv: array([[ 1.00081944e+00, -1.69869286e-06, -1.10672055e-06,\n",
      "         4.54072590e-02, -1.06541617e-04,  0.00000000e+00],\n",
      "       [-1.69869286e-06,  1.00000000e+00,  2.29419752e-09,\n",
      "        -9.41547460e-05,  2.20860443e-07,  0.00000000e+00],\n",
      "       [-1.10672055e-06,  2.29419752e-09,  1.00000000e+00,\n",
      "        -6.16716869e-05,  1.43897141e-07,  0.00000000e+00],\n",
      "       [ 4.54072590e-02, -9.41547460e-05, -6.16716869e-05,\n",
      "         3.19537767e+00, -5.90015356e-03,  0.00000000e+00],\n",
      "       [-1.06541617e-04,  2.20860443e-07,  1.43897141e-07,\n",
      "        -5.90015356e-03,  1.00001385e+00,  0.00000000e+00],\n",
      "       [ 0.00000000e+00,  0.00000000e+00,  0.00000000e+00,\n",
      "         0.00000000e+00,  0.00000000e+00,  1.00000000e+00]])\n",
      "      jac: array([-4.90615076e-09,  1.04536378e-11,  6.86296259e-12, -1.30927109e-07,\n",
      "        4.07412113e-10,  0.00000000e+00])\n",
      "  message: 'Optimization terminated successfully.'\n",
      "     nfev: 24\n",
      "      nit: 2\n",
      "     njev: 3\n",
      "   status: 0\n",
      "  success: True\n",
      "        x: array([2.07749912e-03, 1.30864529e-03, 1.53633487e+00, 7.64974925e-05,\n",
      "       1.26696203e-02, 3.14313837e-02])\n",
      "                    message: ['requested number of basinhopping iterations completed successfully']\n",
      "      minimization_failures: 0\n",
      "                       nfev: 1728\n",
      "                        nit: 100\n",
      "                       njev: 216\n",
      "                          x: array([2.07749912e-03, 1.30864529e-03, 1.53633487e+00, 7.64974925e-05,\n",
      "       1.26696203e-02, 3.14313837e-02])\n"
     ]
    }
   ],
   "source": [
    "best_value  = result.fun\n",
    "best_params = [params[0]] + list(result.x)\n",
    "print(result)"
   ]
  },
  {
   "cell_type": "markdown",
   "metadata": {},
   "source": [
    "## Check the Result"
   ]
  },
  {
   "cell_type": "code",
   "execution_count": 12,
   "metadata": {},
   "outputs": [
    {
     "data": {
      "image/png": "[encoded data removed]",
      "text/plain": [
       "<Figure size 432x288 with 1 Axes>"
      ]
     },
     "metadata": {},
     "output_type": "display_data"
    }
   ],
   "source": [
    "model_data = odeint(model, y_init, tspan, args=tuple([best_params]))\n",
    "y_model    = model_data[:,1]\n",
    "\n",
    "fig3 = plt.figure()\n",
    "ax3  = fig3.add_subplot(1,1,1)\n",
    "ax3.plot(tspan, y_data,'o')\n",
    "ax3.plot(tspan, y_model)\n",
    "setting = ax1.set(title='Observed data', xlabel='Time (hr)', ylabel='Conc')"
   ]
  },
  {
   "cell_type": "code",
   "execution_count": 13,
   "metadata": {},
   "outputs": [],
   "source": [
    "#True parameter values\n",
    "answer = {'inducer' : 1,\n",
    "           'vmax1'   : 1e-5,  \n",
    "           'km1'     : 10, \n",
    "           'deg1'    : 0.15,  \n",
    "           'vmax2'   : 0.02,\n",
    "           'mu'      : 0.015\n",
    "          }"
   ]
  },
  {
   "cell_type": "markdown",
   "metadata": {},
   "source": [
    "## Assignment\n",
    "\n",
    "\n",
    "1. Use a different model. \n",
    "    - Suppose we want to simplify the model into a one-step process i.e. protein synthesis is directly controlled by the inducer with no mRNA involved. Write your own model function and repeat the steps above using your model.\n",
    "    - Suppose we want to model gene expression as a two-step process plus one maturation step i.e. protein synthesis is followed by a first order maturation step. Write your own model function and repeat the steps above using your model.\n",
    "\n",
    "2. Use a different optimizer.\n",
    "    - Suppose we want to use differential evolution for curve-fitting. Repeat the steps above using scipy's differential evolution optimizer.\n",
    "\n",
    "3. Test your understanding\n",
    "    - Why do we use sum squared error instead of simply summing up the errors directly?\n",
    "    - Suppose we use an optimizer that searches for the maximum value of an objective function. Do we need to change the objective function? If so, how should we change it?\n",
    "\n",
    "4. Analyze the results\n",
    "    - The true parameters used to generate the data are shown in the cell above. Does your simulations always converge to the true parameters? Why? What are the underlying factors? How can we ensure that we can determine the true parameters? Does it always matter if we cannot determine the true parameters? (300 words)"
   ]
  },
  {
   "cell_type": "code",
   "execution_count": 14,
   "metadata": {},
   "outputs": [],
   "source": [
    "bounds = {'vmax1'   : (1e-6,  1e-4),  \n",
    "          'km1'     : (1,     20), \n",
    "          'deg1'    : (0.1,   0.3),  \n",
    "          'vmax2'   : (0.01,  0.1),\n",
    "          'mu'      : (0.001, 0.03)\n",
    "          }\n",
    "bounds = np.array(list(bounds.values()))"
   ]
  },
  {
   "cell_type": "code",
   "execution_count": 15,
   "metadata": {
    "scrolled": true
   },
   "outputs": [
    {
     "name": "stdout",
     "output_type": "stream",
     "text": [
      "differential_evolution step 1: f(x)= 9.43836e-12\n",
      "differential_evolution step 2: f(x)= 4.28869e-12\n",
      "differential_evolution step 3: f(x)= 4.28869e-12\n",
      "differential_evolution step 4: f(x)= 4.28869e-12\n",
      "differential_evolution step 5: f(x)= 3.70887e-12\n",
      "differential_evolution step 6: f(x)= 3.70887e-12\n",
      "differential_evolution step 7: f(x)= 3.70887e-12\n",
      "differential_evolution step 8: f(x)= 3.70887e-12\n",
      "differential_evolution step 9: f(x)= 3.04303e-12\n",
      "differential_evolution step 10: f(x)= 3.04303e-12\n",
      "differential_evolution step 11: f(x)= 2.79285e-12\n",
      "differential_evolution step 12: f(x)= 2.79285e-12\n",
      "differential_evolution step 13: f(x)= 2.79285e-12\n",
      "differential_evolution step 14: f(x)= 2.79285e-12\n",
      "differential_evolution step 15: f(x)= 2.66279e-12\n",
      "differential_evolution step 16: f(x)= 2.66279e-12\n",
      "differential_evolution step 17: f(x)= 2.66279e-12\n",
      "differential_evolution step 18: f(x)= 2.66279e-12\n",
      "differential_evolution step 19: f(x)= 2.66279e-12\n",
      "differential_evolution step 20: f(x)= 2.66279e-12\n",
      "differential_evolution step 21: f(x)= 2.65877e-12\n",
      "differential_evolution step 22: f(x)= 2.65647e-12\n",
      "differential_evolution step 23: f(x)= 2.65065e-12\n",
      "differential_evolution step 24: f(x)= 2.65065e-12\n",
      "differential_evolution step 25: f(x)= 2.65065e-12\n",
      "differential_evolution step 26: f(x)= 2.65065e-12\n",
      "differential_evolution step 27: f(x)= 2.65065e-12\n",
      "differential_evolution step 28: f(x)= 2.65065e-12\n",
      "differential_evolution step 29: f(x)= 2.65065e-12\n",
      "differential_evolution step 30: f(x)= 2.65065e-12\n",
      "differential_evolution step 31: f(x)= 2.65065e-12\n",
      "differential_evolution step 32: f(x)= 2.65065e-12\n",
      "differential_evolution step 33: f(x)= 2.65065e-12\n",
      "differential_evolution step 34: f(x)= 2.65065e-12\n",
      "differential_evolution step 35: f(x)= 2.65065e-12\n",
      "differential_evolution step 36: f(x)= 2.65065e-12\n",
      "differential_evolution step 37: f(x)= 2.65065e-12\n",
      "differential_evolution step 38: f(x)= 2.6488e-12\n",
      "differential_evolution step 39: f(x)= 2.6488e-12\n",
      "differential_evolution step 40: f(x)= 2.6488e-12\n",
      "differential_evolution step 41: f(x)= 2.6335e-12\n",
      "differential_evolution step 42: f(x)= 2.6335e-12\n",
      "differential_evolution step 43: f(x)= 2.6335e-12\n",
      "differential_evolution step 44: f(x)= 2.6335e-12\n",
      "differential_evolution step 45: f(x)= 2.62547e-12\n",
      "differential_evolution step 46: f(x)= 2.62547e-12\n",
      "differential_evolution step 47: f(x)= 2.62547e-12\n",
      "differential_evolution step 48: f(x)= 2.62547e-12\n",
      "differential_evolution step 49: f(x)= 2.62547e-12\n",
      "differential_evolution step 50: f(x)= 2.62547e-12\n",
      "differential_evolution step 51: f(x)= 2.62547e-12\n",
      "differential_evolution step 52: f(x)= 2.62547e-12\n",
      "differential_evolution step 53: f(x)= 2.62547e-12\n",
      "differential_evolution step 54: f(x)= 2.62547e-12\n",
      "differential_evolution step 55: f(x)= 2.62547e-12\n",
      "differential_evolution step 56: f(x)= 2.62547e-12\n",
      "differential_evolution step 57: f(x)= 2.62547e-12\n",
      "differential_evolution step 58: f(x)= 2.62547e-12\n",
      "differential_evolution step 59: f(x)= 2.62547e-12\n",
      "differential_evolution step 60: f(x)= 2.62547e-12\n",
      "differential_evolution step 61: f(x)= 2.62547e-12\n",
      "differential_evolution step 62: f(x)= 2.62547e-12\n",
      "differential_evolution step 63: f(x)= 2.62547e-12\n",
      "differential_evolution step 64: f(x)= 2.62532e-12\n",
      "differential_evolution step 65: f(x)= 2.62532e-12\n",
      "differential_evolution step 66: f(x)= 2.62532e-12\n",
      "differential_evolution step 67: f(x)= 2.62532e-12\n",
      "differential_evolution step 68: f(x)= 2.62532e-12\n",
      "differential_evolution step 69: f(x)= 2.62532e-12\n"
     ]
    }
   ],
   "source": [
    "from scipy.optimize import differential_evolution\n",
    "\n",
    "result_de = differential_evolution(objective_function, bounds, disp=True)"
   ]
  },
  {
   "cell_type": "code",
   "execution_count": 16,
   "metadata": {},
   "outputs": [
    {
     "name": "stderr",
     "output_type": "stream",
     "text": [
      "C:\\Users\\russellnjk\\anaconda3\\lib\\site-packages\\ipykernel_launcher.py:6: MatplotlibDeprecationWarning: Adding an axes using the same arguments as a previous axes currently reuses the earlier instance.  In a future version, a new instance will always be created and returned.  Meanwhile, this warning can be suppressed, and the future behavior ensured, by passing a unique label to each axes instance.\n",
      "  \n"
     ]
    },
    {
     "data": {
      "text/plain": [
       "<Figure size 432x288 with 0 Axes>"
      ]
     },
     "metadata": {},
     "output_type": "display_data"
    }
   ],
   "source": [
    "best_params_new = [params[0]] + list(result_de.x)\n",
    "model_data = odeint(model, y_init, tspan, args=tuple([best_params_new]))\n",
    "y_model    = model_data[:,1]\n",
    "\n",
    "fig4 = plt.figure()\n",
    "ax4  = fig3.add_subplot(1,1,1)\n",
    "ax4.plot(tspan, y_data,'o')\n",
    "ax4.plot(tspan, y_model)\n",
    "setting = ax4.set(title='Observed data', xlabel='Time (hr)', ylabel='Conc')"
   ]
  },
  {
   "cell_type": "markdown",
   "metadata": {},
   "source": [
    "Question 3\n",
    "\n",
    "We use sum squared error instead of summing up the errors because a simple summation would result in negative and positive errors canceling out. As to why we square them instead of using the absolute, it is related to the concept of statistical variance. Details are beyond the scope of this project.\n",
    "\n",
    "The optimizers in scipy are designed to search for the minimum of an objective function. If our objective function requires maximization, we can simply multiply it by -1; maximizing -x^2 gives the same result as minimizing x^2.\n",
    "\n",
    "Question 4\n",
    "\n",
    "Simulations do not always converge to the true parameters for a number of reasons:\n",
    "1. Practical (un)identifiability\n",
    "When the data is noisy, there will be many values of a parameter or multiple combinations of parameters that fit the data reasonably well. The remedy for this is higher quality data with narrow distribution.\n",
    "\n",
    "2. Structural (un)identifiability\n",
    "When multiple values of a parameter or multiple combinations of parameters can reproduce the exact same data, the parameter(s) are said to be structurally unidentifiable. \n",
    "\n",
    "An example is a sine wave; any integer value of n for sin(x + n * pi ) will give the exact same results. One thus cannot determine the value of n by looking at data generated by the shape of a sine wave. \n",
    "\n",
    "Another example is dx/dt = -a*b*x; a = 2 and b = 3 will give the same results as a=3 and b=2. One thus cannot determine the values of a and b by looking at the data generated by mesurements of x over time.\n",
    "\n",
    "Yet another example is dx1/dt = -a*x1, dx2/dt = -b*x2, dx3/dt = -dx1/dt -dx2/dt where only x3 is measured and that the initial values for both x1 and x2 are equal.\n",
    "\n",
    "Structural identifiability cannot be remedied by improving data quality since even perfect data would still result in multiple values/combinations of parameters fitting the data. Instead, one must either make changes to the model or experiment. For the last example, one could measure both x1 and x2 during the experiment. Alternatively, they could do a literature search to see if a or b have been determined by some other means and consider fixing the value of a or b to the value in the literature. If neither of these are possible, they then have to reformulate the model into a new set of equations.\n",
    "\n",
    "In terms of their impact on the objective function, both structural and practical unidentifiability result in multiple local minima/maxima. Samplers can end up in different extrema depending on chance, the starting point for sampling as well as choice of sampler.\n",
    "\n",
    "3. Sampler limitations\n",
    "In some cases, the nature of the objective function may be so that the sampler is not suited for determining the maximum/minimum value. In most cases, changing the settings or using a different algorithm will suffice; changing the objective function is most unlikely.\n",
    "\n",
    "Whether or not we really need to find the true values of the parameters depends on the goal of our analysis. For example, if we have a model that was fitted to a range of inducer concentrations 0, 0.2, 0.4, 0.6, 0.8 and 1, it is likely that it would be able to predict the response of the system at 0.9 inducer concentration even if the parameter values were different from the true values. The same cannot be said if we wanted to predict the system response with an inducer concentration of 2 or if the rbs was changed. The former case can be considered a case of interpolation, which is generally safe for local or empirical models while the latter can be thought of as a case of extrapolation which can be dangerous for said models."
   ]
  }
 ],
 "metadata": {
  "kernelspec": {
   "display_name": "Python 3",
   "language": "python",
   "name": "python3"
  },
  "language_info": {
   "codemirror_mode": {
    "name": "ipython",
    "version": 3
   },
   "file_extension": ".py",
   "mimetype": "text/x-python",
   "name": "python",
   "nbconvert_exporter": "python",
   "pygments_lexer": "ipython3",
   "version": "3.7.6"
  }
 },
 "nbformat": 4,
 "nbformat_minor": 4
}
